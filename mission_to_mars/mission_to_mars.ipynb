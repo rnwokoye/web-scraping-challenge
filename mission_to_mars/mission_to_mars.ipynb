{
 "cells": [
  {
   "cell_type": "code",
   "execution_count": 1,
   "metadata": {},
   "outputs": [],
   "source": [
    "# Dependencies\n",
    "from splinter import Browser\n",
    "from bs4 import BeautifulSoup as bs\n",
    "from webdriver_manager.chrome import ChromeDriverManager\n",
    "import requests\n",
    "import pandas as pd\n",
    "import time"
   ]
  },
  {
   "cell_type": "code",
   "execution_count": 2,
   "metadata": {},
   "outputs": [],
   "source": [
    "# pip install webdriver_manager\n",
    "# pip install splinter"
   ]
  },
  {
   "cell_type": "code",
   "execution_count": 3,
   "metadata": {},
   "outputs": [
    {
     "name": "stderr",
     "output_type": "stream",
     "text": [
      "[WDM] - ====== WebDriver manager ======\n",
      "[WDM] - Current google-chrome version is 90.0.4430\n",
      "[WDM] - Get LATEST driver version for 90.0.4430\n",
      "[WDM] - Driver [/Users/richardnwokoye/.wdm/drivers/chromedriver/mac64/90.0.4430.24/chromedriver] found in cache\n"
     ]
    },
    {
     "name": "stdout",
     "output_type": "stream",
     "text": [
      "\n",
      "\n"
     ]
    }
   ],
   "source": [
    "# Setup splinter\n",
    "executable_path = {'executable_path': ChromeDriverManager().install()}\n",
    "browser = Browser('chrome', **executable_path, headless=False)"
   ]
  },
  {
   "cell_type": "code",
   "execution_count": 4,
   "metadata": {},
   "outputs": [],
   "source": [
    "# visit mars news site\n",
    "mars_news_site_url = 'https://redplanetscience.com/'\n",
    "browser.visit(mars_news_site_url)"
   ]
  },
  {
   "cell_type": "code",
   "execution_count": 5,
   "metadata": {},
   "outputs": [],
   "source": [
    "mars_html = browser.html\n",
    "soup = bs(mars_html, 'html.parser')\n",
    "news_headline_list = soup.find_all('div', class_='content_title')\n",
    "news_text_list = soup.find_all('div', class_='article_teaser_body')\n",
    "news_headline = news_headline_list[0].text\n",
    "news_text = news_text_list[0].text\n"
   ]
  },
  {
   "cell_type": "code",
   "execution_count": 6,
   "metadata": {},
   "outputs": [],
   "source": [
    "# Visit to Space Images\n",
    "mars_image_site_url = 'https://spaceimages-mars.com/'\n",
    "browser.visit(mars_image_site_url)"
   ]
  },
  {
   "cell_type": "code",
   "execution_count": 7,
   "metadata": {},
   "outputs": [
    {
     "data": {
      "text/plain": [
       "'https://spaceimages-mars.com/image/featured/mars2.jpg'"
      ]
     },
     "execution_count": 7,
     "metadata": {},
     "output_type": "execute_result"
    }
   ],
   "source": [
    "mars_html = browser.html\n",
    "soup = bs(mars_html, 'html.parser')\n",
    "main_img_url = mars_image_site_url + soup.find('img', class_='headerimage fade-in').get('src')\n",
    "main_img_url"
   ]
  },
  {
   "cell_type": "code",
   "execution_count": 8,
   "metadata": {},
   "outputs": [],
   "source": [
    "mars_facts_site_url = 'https://galaxyfacts-mars.com/'\n",
    "browser.visit(mars_facts_site_url)"
   ]
  },
  {
   "cell_type": "code",
   "execution_count": 9,
   "metadata": {},
   "outputs": [],
   "source": [
    "mars_facts_html = browser.html\n",
    "soup = bs(mars_facts_html, 'html.parser')"
   ]
  },
  {
   "cell_type": "code",
   "execution_count": 10,
   "metadata": {},
   "outputs": [
    {
     "data": {
      "text/plain": [
       "[                         0                1                2\n",
       " 0  Mars - Earth Comparison             Mars            Earth\n",
       " 1                Diameter:         6,779 km        12,742 km\n",
       " 2                    Mass:  6.39 × 10^23 kg  5.97 × 10^24 kg\n",
       " 3                   Moons:                2                1\n",
       " 4       Distance from Sun:   227,943,824 km   149,598,262 km\n",
       " 5          Length of Year:   687 Earth days      365.24 days\n",
       " 6             Temperature:     -87 to -5 °C      -88 to 58°C,\n",
       "                       0                              1\n",
       " 0  Equatorial Diameter:                       6,792 km\n",
       " 1       Polar Diameter:                       6,752 km\n",
       " 2                 Mass:  6.39 × 10^23 kg (0.11 Earths)\n",
       " 3                Moons:          2 ( Phobos & Deimos )\n",
       " 4       Orbit Distance:       227,943,824 km (1.38 AU)\n",
       " 5         Orbit Period:           687 days (1.9 years)\n",
       " 6  Surface Temperature:                   -87 to -5 °C\n",
       " 7         First Record:              2nd millennium BC\n",
       " 8          Recorded By:           Egyptian astronomers]"
      ]
     },
     "execution_count": 10,
     "metadata": {},
     "output_type": "execute_result"
    }
   ],
   "source": [
    "facts = pd.read_html(mars_facts_html)\n",
    "facts"
   ]
  },
  {
   "cell_type": "code",
   "execution_count": 11,
   "metadata": {},
   "outputs": [],
   "source": [
    "df1 = facts[0]\n",
    "df1\n",
    "header_row0 = 0\n",
    "df1.columns = df1.iloc[header_row0]\n",
    "df1.drop(header_row0, inplace=True)\n",
    "df1.set_index('Mars - Earth Comparison', inplace=True)"
   ]
  },
  {
   "cell_type": "code",
   "execution_count": 12,
   "metadata": {},
   "outputs": [],
   "source": [
    "df2 = facts[1]\n",
    "header_row1 = 0\n",
    "df2.columns = df2.iloc[header_row1]\n",
    "df2.drop(header_row1)\n",
    "df2.drop(header_row1, inplace=True)\n",
    "df2.set_index('Equatorial Diameter:', inplace=True)"
   ]
  },
  {
   "cell_type": "code",
   "execution_count": 13,
   "metadata": {},
   "outputs": [],
   "source": [
    "mars_hemspheres_url = 'https://marshemispheres.com/'\n",
    "browser.visit(mars_hemspheres_url)\n",
    "html = browser.html\n",
    "soup = bs(html, 'html.parser')\n",
    "links = soup.find_all('a', class_='itemLink product-item')\n",
    "dict_list = []\n",
    "\n",
    "for i in range(1, len(links),2):\n",
    "    mydict= {}\n",
    "    title = links[i].text.split('\\n')[1]\n",
    "    lnk = mars_hemspheres_url + links[i].get('href')\n",
    "    browser.visit(lnk)\n",
    "    html = browser.html\n",
    "    soup = bs(html, 'html.parser')\n",
    "    time.sleep(1)\n",
    "    img_url = mars_hemspheres_url + soup.find('img', class_='wide-image').get('src')\n",
    "    mydict['title'] = title\n",
    "    mydict['link'] = lnk\n",
    "    mydict['img_url'] = img_url\n",
    "    dict_list.append(mydict)\n",
    "    browser.back()"
   ]
  },
  {
   "cell_type": "code",
   "execution_count": 14,
   "metadata": {},
   "outputs": [],
   "source": [
    "all_data = {}\n",
    "\n",
    "all_data['main_img'] = main_img_url\n",
    "all_data['headlines'] = news_headline\n",
    "all_data['text'] = news_text\n",
    "all_data['hermisphere'] = dict_list\n",
    "all_data['facts'] = df1.to_dict('records')"
   ]
  },
  {
   "cell_type": "code",
   "execution_count": 15,
   "metadata": {},
   "outputs": [],
   "source": [
    "browser.quit()"
   ]
  }
 ],
 "metadata": {
  "kernelspec": {
   "display_name": "Python 3",
   "language": "python",
   "name": "python3"
  },
  "language_info": {
   "codemirror_mode": {
    "name": "ipython",
    "version": 3
   },
   "file_extension": ".py",
   "mimetype": "text/x-python",
   "name": "python",
   "nbconvert_exporter": "python",
   "pygments_lexer": "ipython3",
   "version": "3.7.9"
  }
 },
 "nbformat": 4,
 "nbformat_minor": 4
}
